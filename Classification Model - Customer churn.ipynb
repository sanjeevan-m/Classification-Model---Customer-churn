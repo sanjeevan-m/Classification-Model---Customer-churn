{
 "cells": [
  {
   "cell_type": "markdown",
   "id": "89322bb1",
   "metadata": {},
   "source": [
    "\n",
    "# <span style=\"color: violet;\">Classification Model - Customer churn</span>\n"
   ]
  },
  {
   "cell_type": "markdown",
   "id": "da8b7aae",
   "metadata": {},
   "source": [
    " \n",
    "## <span style=\"color: violet;\">Introduction</span>\n",
    "\n",
    "#### In the highly competitive world of e-commerce, customer retention is a critical factor for success. E-commerce companies can leverage customer data to predict which customers are at risk of churning, or leaving the service, and take proactive measures to retain them. In this context, classification models can be used to predict whether a customer is likely to churn or not, based on their past behavior and interactions with the service.\n",
    "\n"
   ]
  },
  {
   "cell_type": "markdown",
   "id": "d8479f69",
   "metadata": {},
   "source": [
    "\n",
    "## <span style=\"color: violet;\">Data</span>"
   ]
  },
  {
   "cell_type": "code",
   "execution_count": 2,
   "id": "cd6103b5",
   "metadata": {},
   "outputs": [],
   "source": [
    "\n",
    "import pandas as pd\n",
    "import numpy as np\n",
    "import matplotlib.pyplot as plt\n",
    "import seaborn as sns\n",
    "import matplotlib.pyplot as plt\n",
    "%matplotlib inline"
   ]
  },
  {
   "cell_type": "code",
   "execution_count": 3,
   "id": "0e8d1e81",
   "metadata": {},
   "outputs": [
    {
     "data": {
      "text/html": [
       "<div>\n",
       "<style scoped>\n",
       "    .dataframe tbody tr th:only-of-type {\n",
       "        vertical-align: middle;\n",
       "    }\n",
       "\n",
       "    .dataframe tbody tr th {\n",
       "        vertical-align: top;\n",
       "    }\n",
       "\n",
       "    .dataframe thead th {\n",
       "        text-align: right;\n",
       "    }\n",
       "</style>\n",
       "<table border=\"1\" class=\"dataframe\">\n",
       "  <thead>\n",
       "    <tr style=\"text-align: right;\">\n",
       "      <th></th>\n",
       "      <th>Unnamed: 0</th>\n",
       "      <th>CustomerID</th>\n",
       "      <th>Churn</th>\n",
       "      <th>Tenure</th>\n",
       "      <th>PreferredLoginDevice</th>\n",
       "      <th>CityTier</th>\n",
       "      <th>WarehouseToHome</th>\n",
       "      <th>PreferredPaymentMode</th>\n",
       "      <th>Gender</th>\n",
       "      <th>HourSpendOnApp</th>\n",
       "      <th>...</th>\n",
       "      <th>PreferedOrderCat</th>\n",
       "      <th>SatisfactionScore</th>\n",
       "      <th>MaritalStatus</th>\n",
       "      <th>NumberOfAddress</th>\n",
       "      <th>Complain</th>\n",
       "      <th>OrderAmountHikeFromlastYear</th>\n",
       "      <th>CouponUsed</th>\n",
       "      <th>OrderCount</th>\n",
       "      <th>DaySinceLastOrder</th>\n",
       "      <th>CashbackAmount</th>\n",
       "    </tr>\n",
       "  </thead>\n",
       "  <tbody>\n",
       "    <tr>\n",
       "      <th>0</th>\n",
       "      <td>0</td>\n",
       "      <td>50001</td>\n",
       "      <td>1</td>\n",
       "      <td>4.0</td>\n",
       "      <td>Mobile Phone</td>\n",
       "      <td>3</td>\n",
       "      <td>6.0</td>\n",
       "      <td>Debit Card</td>\n",
       "      <td>Female</td>\n",
       "      <td>3.0</td>\n",
       "      <td>...</td>\n",
       "      <td>Laptop &amp; Accessory</td>\n",
       "      <td>2</td>\n",
       "      <td>Single</td>\n",
       "      <td>9</td>\n",
       "      <td>1</td>\n",
       "      <td>11.0</td>\n",
       "      <td>1.0</td>\n",
       "      <td>1.0</td>\n",
       "      <td>5.0</td>\n",
       "      <td>159.93</td>\n",
       "    </tr>\n",
       "    <tr>\n",
       "      <th>1</th>\n",
       "      <td>1</td>\n",
       "      <td>50002</td>\n",
       "      <td>1</td>\n",
       "      <td>4.0</td>\n",
       "      <td>Phone</td>\n",
       "      <td>1</td>\n",
       "      <td>8.0</td>\n",
       "      <td>UPI</td>\n",
       "      <td>Male</td>\n",
       "      <td>3.0</td>\n",
       "      <td>...</td>\n",
       "      <td>Mobile</td>\n",
       "      <td>3</td>\n",
       "      <td>Single</td>\n",
       "      <td>7</td>\n",
       "      <td>1</td>\n",
       "      <td>15.0</td>\n",
       "      <td>0.0</td>\n",
       "      <td>1.0</td>\n",
       "      <td>0.0</td>\n",
       "      <td>120.90</td>\n",
       "    </tr>\n",
       "    <tr>\n",
       "      <th>2</th>\n",
       "      <td>2</td>\n",
       "      <td>50003</td>\n",
       "      <td>1</td>\n",
       "      <td>4.0</td>\n",
       "      <td>Phone</td>\n",
       "      <td>1</td>\n",
       "      <td>30.0</td>\n",
       "      <td>Debit Card</td>\n",
       "      <td>Male</td>\n",
       "      <td>2.0</td>\n",
       "      <td>...</td>\n",
       "      <td>Mobile</td>\n",
       "      <td>3</td>\n",
       "      <td>Single</td>\n",
       "      <td>6</td>\n",
       "      <td>1</td>\n",
       "      <td>14.0</td>\n",
       "      <td>0.0</td>\n",
       "      <td>1.0</td>\n",
       "      <td>3.0</td>\n",
       "      <td>120.28</td>\n",
       "    </tr>\n",
       "    <tr>\n",
       "      <th>3</th>\n",
       "      <td>4</td>\n",
       "      <td>50005</td>\n",
       "      <td>1</td>\n",
       "      <td>0.0</td>\n",
       "      <td>Phone</td>\n",
       "      <td>1</td>\n",
       "      <td>12.0</td>\n",
       "      <td>CC</td>\n",
       "      <td>Male</td>\n",
       "      <td>3.0</td>\n",
       "      <td>...</td>\n",
       "      <td>Mobile</td>\n",
       "      <td>5</td>\n",
       "      <td>Single</td>\n",
       "      <td>3</td>\n",
       "      <td>0</td>\n",
       "      <td>11.0</td>\n",
       "      <td>1.0</td>\n",
       "      <td>1.0</td>\n",
       "      <td>3.0</td>\n",
       "      <td>129.60</td>\n",
       "    </tr>\n",
       "    <tr>\n",
       "      <th>4</th>\n",
       "      <td>6</td>\n",
       "      <td>50007</td>\n",
       "      <td>1</td>\n",
       "      <td>0.0</td>\n",
       "      <td>Phone</td>\n",
       "      <td>3</td>\n",
       "      <td>11.0</td>\n",
       "      <td>Cash on Delivery</td>\n",
       "      <td>Male</td>\n",
       "      <td>2.0</td>\n",
       "      <td>...</td>\n",
       "      <td>Laptop &amp; Accessory</td>\n",
       "      <td>2</td>\n",
       "      <td>Divorced</td>\n",
       "      <td>4</td>\n",
       "      <td>0</td>\n",
       "      <td>14.0</td>\n",
       "      <td>0.0</td>\n",
       "      <td>1.0</td>\n",
       "      <td>0.0</td>\n",
       "      <td>120.86</td>\n",
       "    </tr>\n",
       "  </tbody>\n",
       "</table>\n",
       "<p>5 rows × 21 columns</p>\n",
       "</div>"
      ],
      "text/plain": [
       "   Unnamed: 0  CustomerID  Churn  Tenure PreferredLoginDevice  CityTier  \\\n",
       "0           0       50001      1     4.0         Mobile Phone         3   \n",
       "1           1       50002      1     4.0                Phone         1   \n",
       "2           2       50003      1     4.0                Phone         1   \n",
       "3           4       50005      1     0.0                Phone         1   \n",
       "4           6       50007      1     0.0                Phone         3   \n",
       "\n",
       "   WarehouseToHome PreferredPaymentMode  Gender  HourSpendOnApp  ...  \\\n",
       "0              6.0           Debit Card  Female             3.0  ...   \n",
       "1              8.0                  UPI    Male             3.0  ...   \n",
       "2             30.0           Debit Card    Male             2.0  ...   \n",
       "3             12.0                   CC    Male             3.0  ...   \n",
       "4             11.0     Cash on Delivery    Male             2.0  ...   \n",
       "\n",
       "     PreferedOrderCat SatisfactionScore  MaritalStatus NumberOfAddress  \\\n",
       "0  Laptop & Accessory                 2         Single               9   \n",
       "1              Mobile                 3         Single               7   \n",
       "2              Mobile                 3         Single               6   \n",
       "3              Mobile                 5         Single               3   \n",
       "4  Laptop & Accessory                 2       Divorced               4   \n",
       "\n",
       "   Complain  OrderAmountHikeFromlastYear  CouponUsed  OrderCount  \\\n",
       "0         1                         11.0         1.0         1.0   \n",
       "1         1                         15.0         0.0         1.0   \n",
       "2         1                         14.0         0.0         1.0   \n",
       "3         0                         11.0         1.0         1.0   \n",
       "4         0                         14.0         0.0         1.0   \n",
       "\n",
       "   DaySinceLastOrder  CashbackAmount  \n",
       "0                5.0          159.93  \n",
       "1                0.0          120.90  \n",
       "2                3.0          120.28  \n",
       "3                3.0          129.60  \n",
       "4                0.0          120.86  \n",
       "\n",
       "[5 rows x 21 columns]"
      ]
     },
     "execution_count": 3,
     "metadata": {},
     "output_type": "execute_result"
    }
   ],
   "source": [
    "data=pd.read_csv(\"clean_data.csv\")\n",
    "data.head()"
   ]
  },
  {
   "cell_type": "code",
   "execution_count": 4,
   "id": "bd7a6000",
   "metadata": {},
   "outputs": [
    {
     "name": "stdout",
     "output_type": "stream",
     "text": [
      "<class 'pandas.core.frame.DataFrame'>\n",
      "RangeIndex: 13950 entries, 0 to 13949\n",
      "Data columns (total 21 columns):\n",
      " #   Column                       Non-Null Count  Dtype  \n",
      "---  ------                       --------------  -----  \n",
      " 0   Unnamed: 0                   13950 non-null  int64  \n",
      " 1   CustomerID                   13950 non-null  int64  \n",
      " 2   Churn                        13950 non-null  int64  \n",
      " 3   Tenure                       13950 non-null  float64\n",
      " 4   PreferredLoginDevice         13950 non-null  object \n",
      " 5   CityTier                     13950 non-null  int64  \n",
      " 6   WarehouseToHome              13950 non-null  float64\n",
      " 7   PreferredPaymentMode         13950 non-null  object \n",
      " 8   Gender                       13950 non-null  object \n",
      " 9   HourSpendOnApp               13950 non-null  float64\n",
      " 10  NumberOfDeviceRegistered     13950 non-null  float64\n",
      " 11  PreferedOrderCat             13950 non-null  object \n",
      " 12  SatisfactionScore            13950 non-null  int64  \n",
      " 13  MaritalStatus                13950 non-null  object \n",
      " 14  NumberOfAddress              13950 non-null  int64  \n",
      " 15  Complain                     13950 non-null  int64  \n",
      " 16  OrderAmountHikeFromlastYear  13950 non-null  float64\n",
      " 17  CouponUsed                   13950 non-null  float64\n",
      " 18  OrderCount                   13950 non-null  float64\n",
      " 19  DaySinceLastOrder            13950 non-null  float64\n",
      " 20  CashbackAmount               13950 non-null  float64\n",
      "dtypes: float64(9), int64(7), object(5)\n",
      "memory usage: 2.2+ MB\n"
     ]
    }
   ],
   "source": [
    "data.info()"
   ]
  },
  {
   "cell_type": "code",
   "execution_count": null,
   "id": "7ace6a92",
   "metadata": {},
   "outputs": [],
   "source": []
  },
  {
   "cell_type": "code",
   "execution_count": 5,
   "id": "2256368e",
   "metadata": {},
   "outputs": [],
   "source": [
    "import scipy.stats as stat\n",
    "import pylab\n",
    "def plot_data(dataframe,feature):\n",
    "    plt.figure(figsize=(15,4))\n",
    "    plt.subplot(1,2,1)\n",
    "    dataframe[feature].hist()\n",
    "    plt.subplot(1,2,2)\n",
    "    stat.probplot(dataframe[feature],dist=\"norm\" ,plot=pylab)\n",
    "    plt.show()\n"
   ]
  },
  {
   "cell_type": "code",
   "execution_count": 6,
   "id": "d22b0823",
   "metadata": {},
   "outputs": [
    {
     "data": {
      "image/png": "[encoded data removed]",
      "text/plain": [
       "<Figure size 1500x400 with 2 Axes>"
      ]
     },
     "metadata": {},
     "output_type": "display_data"
    }
   ],
   "source": [
    "plot_data(data,\"Tenure\")"
   ]
  },
  {
   "cell_type": "code",
   "execution_count": 7,
   "id": "b1084192",
   "metadata": {},
   "outputs": [
    {
     "data": {
      "image/png": "[encoded data removed]",
      "text/plain": [
       "<Figure size 1500x400 with 2 Axes>"
      ]
     },
     "metadata": {},
     "output_type": "display_data"
    }
   ],
   "source": [
    "data[\"Tenure\"]=np.log1p(data[\"Tenure\"])\n",
    "plot_data(data,\"Tenure\")"
   ]
  },
  {
   "cell_type": "code",
   "execution_count": 8,
   "id": "52a956f4",
   "metadata": {},
   "outputs": [
    {
     "data": {
      "image/png": "[encoded data removed]",
      "text/plain": [
       "<Figure size 1500x400 with 2 Axes>"
      ]
     },
     "metadata": {},
     "output_type": "display_data"
    }
   ],
   "source": [
    "plot_data(data,\"DaySinceLastOrder\")"
   ]
  },
  {
   "cell_type": "code",
   "execution_count": 9,
   "id": "f193b813",
   "metadata": {},
   "outputs": [
    {
     "data": {
      "image/png": "[encoded data removed]",
      "text/plain": [
       "<Figure size 1500x400 with 2 Axes>"
      ]
     },
     "metadata": {},
     "output_type": "display_data"
    }
   ],
   "source": [
    "plot_data(data,\"CashbackAmount\")"
   ]
  },
  {
   "cell_type": "code",
   "execution_count": 10,
   "id": "18c65f87",
   "metadata": {},
   "outputs": [
    {
     "data": {
      "image/png": "[encoded data removed]",
      "text/plain": [
       "<Figure size 1500x400 with 2 Axes>"
      ]
     },
     "metadata": {},
     "output_type": "display_data"
    }
   ],
   "source": [
    "data[\"CashbackAmount\"]=np.log1p(data[\"CashbackAmount\"])\n",
    "plot_data(data,\"CashbackAmount\")"
   ]
  },
  {
   "cell_type": "code",
   "execution_count": 11,
   "id": "02dbc6e4",
   "metadata": {},
   "outputs": [
    {
     "name": "stderr",
     "output_type": "stream",
     "text": [
      "C:\\Users\\Vaidees\\anaconda3\\lib\\site-packages\\sklearn\\utils\\deprecation.py:87: FutureWarning: Function get_feature_names is deprecated; get_feature_names is deprecated in 1.0 and will be removed in 1.2. Please use get_feature_names_out instead.\n",
      "  warnings.warn(msg, category=FutureWarning)\n"
     ]
    },
    {
     "data": {
      "text/html": [
       "<div>\n",
       "<style scoped>\n",
       "    .dataframe tbody tr th:only-of-type {\n",
       "        vertical-align: middle;\n",
       "    }\n",
       "\n",
       "    .dataframe tbody tr th {\n",
       "        vertical-align: top;\n",
       "    }\n",
       "\n",
       "    .dataframe thead th {\n",
       "        text-align: right;\n",
       "    }\n",
       "</style>\n",
       "<table border=\"1\" class=\"dataframe\">\n",
       "  <thead>\n",
       "    <tr style=\"text-align: right;\">\n",
       "      <th></th>\n",
       "      <th>Unnamed: 0</th>\n",
       "      <th>CustomerID</th>\n",
       "      <th>Churn</th>\n",
       "      <th>Tenure</th>\n",
       "      <th>PreferredLoginDevice</th>\n",
       "      <th>CityTier</th>\n",
       "      <th>WarehouseToHome</th>\n",
       "      <th>PreferredPaymentMode</th>\n",
       "      <th>Gender</th>\n",
       "      <th>HourSpendOnApp</th>\n",
       "      <th>...</th>\n",
       "      <th>Gender_m</th>\n",
       "      <th>PreferedOrderCat_Fashion</th>\n",
       "      <th>PreferedOrderCat_Grocery</th>\n",
       "      <th>PreferedOrderCat_Laptop &amp; Accessory</th>\n",
       "      <th>PreferedOrderCat_Mobile</th>\n",
       "      <th>PreferedOrderCat_Mobile Phone</th>\n",
       "      <th>PreferedOrderCat_Others</th>\n",
       "      <th>MaritalStatus_Divorced</th>\n",
       "      <th>MaritalStatus_Married</th>\n",
       "      <th>MaritalStatus_Single</th>\n",
       "    </tr>\n",
       "  </thead>\n",
       "  <tbody>\n",
       "    <tr>\n",
       "      <th>0</th>\n",
       "      <td>0</td>\n",
       "      <td>50001</td>\n",
       "      <td>1</td>\n",
       "      <td>1.609438</td>\n",
       "      <td>Mobile Phone</td>\n",
       "      <td>3</td>\n",
       "      <td>6.0</td>\n",
       "      <td>Debit Card</td>\n",
       "      <td>Female</td>\n",
       "      <td>3.0</td>\n",
       "      <td>...</td>\n",
       "      <td>0.0</td>\n",
       "      <td>0.0</td>\n",
       "      <td>0.0</td>\n",
       "      <td>1.0</td>\n",
       "      <td>0.0</td>\n",
       "      <td>0.0</td>\n",
       "      <td>0.0</td>\n",
       "      <td>0.0</td>\n",
       "      <td>0.0</td>\n",
       "      <td>1.0</td>\n",
       "    </tr>\n",
       "    <tr>\n",
       "      <th>1</th>\n",
       "      <td>1</td>\n",
       "      <td>50002</td>\n",
       "      <td>1</td>\n",
       "      <td>1.609438</td>\n",
       "      <td>Phone</td>\n",
       "      <td>1</td>\n",
       "      <td>8.0</td>\n",
       "      <td>UPI</td>\n",
       "      <td>Male</td>\n",
       "      <td>3.0</td>\n",
       "      <td>...</td>\n",
       "      <td>0.0</td>\n",
       "      <td>0.0</td>\n",
       "      <td>0.0</td>\n",
       "      <td>0.0</td>\n",
       "      <td>1.0</td>\n",
       "      <td>0.0</td>\n",
       "      <td>0.0</td>\n",
       "      <td>0.0</td>\n",
       "      <td>0.0</td>\n",
       "      <td>1.0</td>\n",
       "    </tr>\n",
       "    <tr>\n",
       "      <th>2</th>\n",
       "      <td>2</td>\n",
       "      <td>50003</td>\n",
       "      <td>1</td>\n",
       "      <td>1.609438</td>\n",
       "      <td>Phone</td>\n",
       "      <td>1</td>\n",
       "      <td>30.0</td>\n",
       "      <td>Debit Card</td>\n",
       "      <td>Male</td>\n",
       "      <td>2.0</td>\n",
       "      <td>...</td>\n",
       "      <td>0.0</td>\n",
       "      <td>0.0</td>\n",
       "      <td>0.0</td>\n",
       "      <td>0.0</td>\n",
       "      <td>1.0</td>\n",
       "      <td>0.0</td>\n",
       "      <td>0.0</td>\n",
       "      <td>0.0</td>\n",
       "      <td>0.0</td>\n",
       "      <td>1.0</td>\n",
       "    </tr>\n",
       "  </tbody>\n",
       "</table>\n",
       "<p>3 rows × 45 columns</p>\n",
       "</div>"
      ],
      "text/plain": [
       "   Unnamed: 0  CustomerID  Churn    Tenure PreferredLoginDevice  CityTier  \\\n",
       "0           0       50001      1  1.609438         Mobile Phone         3   \n",
       "1           1       50002      1  1.609438                Phone         1   \n",
       "2           2       50003      1  1.609438                Phone         1   \n",
       "\n",
       "   WarehouseToHome PreferredPaymentMode  Gender  HourSpendOnApp  ...  \\\n",
       "0              6.0           Debit Card  Female             3.0  ...   \n",
       "1              8.0                  UPI    Male             3.0  ...   \n",
       "2             30.0           Debit Card    Male             2.0  ...   \n",
       "\n",
       "   Gender_m PreferedOrderCat_Fashion  PreferedOrderCat_Grocery  \\\n",
       "0       0.0                      0.0                       0.0   \n",
       "1       0.0                      0.0                       0.0   \n",
       "2       0.0                      0.0                       0.0   \n",
       "\n",
       "  PreferedOrderCat_Laptop & Accessory  PreferedOrderCat_Mobile  \\\n",
       "0                                 1.0                      0.0   \n",
       "1                                 0.0                      1.0   \n",
       "2                                 0.0                      1.0   \n",
       "\n",
       "   PreferedOrderCat_Mobile Phone  PreferedOrderCat_Others  \\\n",
       "0                            0.0                      0.0   \n",
       "1                            0.0                      0.0   \n",
       "2                            0.0                      0.0   \n",
       "\n",
       "   MaritalStatus_Divorced  MaritalStatus_Married  MaritalStatus_Single  \n",
       "0                     0.0                    0.0                   1.0  \n",
       "1                     0.0                    0.0                   1.0  \n",
       "2                     0.0                    0.0                   1.0  \n",
       "\n",
       "[3 rows x 45 columns]"
      ]
     },
     "execution_count": 11,
     "metadata": {},
     "output_type": "execute_result"
    }
   ],
   "source": [
    "import pandas as pd\n",
    "from sklearn.preprocessing import OneHotEncoder\n",
    "onehot_encoder = OneHotEncoder()\n",
    "columns_to_encode = ['PreferredLoginDevice', 'PreferredPaymentMode',\"Gender\",\"PreferedOrderCat\",\"MaritalStatus\"]\n",
    "onehot_encoder.fit(data[columns_to_encode])\n",
    "onehot_encoded = onehot_encoder.transform(data[columns_to_encode])\n",
    "onehot_data = pd.DataFrame(onehot_encoded.toarray(), columns=onehot_encoder.get_feature_names(columns_to_encode))\n",
    "data= pd.concat([data, onehot_data], axis=1)\n",
    "data.head(3)"
   ]
  },
  {
   "cell_type": "code",
   "execution_count": 12,
   "id": "87b2d081",
   "metadata": {},
   "outputs": [
    {
     "data": {
      "text/plain": [
       "Index(['Unnamed: 0', 'CustomerID', 'Churn', 'Tenure', 'PreferredLoginDevice',\n",
       "       'CityTier', 'WarehouseToHome', 'PreferredPaymentMode', 'Gender',\n",
       "       'HourSpendOnApp', 'NumberOfDeviceRegistered', 'PreferedOrderCat',\n",
       "       'SatisfactionScore', 'MaritalStatus', 'NumberOfAddress', 'Complain',\n",
       "       'OrderAmountHikeFromlastYear', 'CouponUsed', 'OrderCount',\n",
       "       'DaySinceLastOrder', 'CashbackAmount', 'PreferredLoginDevice_0',\n",
       "       'PreferredLoginDevice_Computer', 'PreferredLoginDevice_Mobile Phone',\n",
       "       'PreferredLoginDevice_Phone', 'PreferredPaymentMode_CC',\n",
       "       'PreferredPaymentMode_COD', 'PreferredPaymentMode_Cash on Delivery',\n",
       "       'PreferredPaymentMode_Credit Card', 'PreferredPaymentMode_Debit Card',\n",
       "       'PreferredPaymentMode_E wallet', 'PreferredPaymentMode_UPI',\n",
       "       'Gender_Female', 'Gender_Male', 'Gender_f', 'Gender_m',\n",
       "       'PreferedOrderCat_Fashion', 'PreferedOrderCat_Grocery',\n",
       "       'PreferedOrderCat_Laptop & Accessory', 'PreferedOrderCat_Mobile',\n",
       "       'PreferedOrderCat_Mobile Phone', 'PreferedOrderCat_Others',\n",
       "       'MaritalStatus_Divorced', 'MaritalStatus_Married',\n",
       "       'MaritalStatus_Single'],\n",
       "      dtype='object')"
      ]
     },
     "execution_count": 12,
     "metadata": {},
     "output_type": "execute_result"
    }
   ],
   "source": [
    "column=data.columns\n",
    "column"
   ]
  },
  {
   "cell_type": "code",
   "execution_count": 13,
   "id": "b5b463d9",
   "metadata": {
    "scrolled": false
   },
   "outputs": [
    {
     "data": {
      "text/html": [
       "<div>\n",
       "<style scoped>\n",
       "    .dataframe tbody tr th:only-of-type {\n",
       "        vertical-align: middle;\n",
       "    }\n",
       "\n",
       "    .dataframe tbody tr th {\n",
       "        vertical-align: top;\n",
       "    }\n",
       "\n",
       "    .dataframe thead th {\n",
       "        text-align: right;\n",
       "    }\n",
       "</style>\n",
       "<table border=\"1\" class=\"dataframe\">\n",
       "  <thead>\n",
       "    <tr style=\"text-align: right;\">\n",
       "      <th></th>\n",
       "      <th>Unnamed: 0</th>\n",
       "      <th>CustomerID</th>\n",
       "      <th>Churn</th>\n",
       "      <th>Tenure</th>\n",
       "      <th>PreferredLoginDevice</th>\n",
       "      <th>CityTier</th>\n",
       "      <th>WarehouseToHome</th>\n",
       "      <th>PreferredPaymentMode</th>\n",
       "      <th>Gender</th>\n",
       "      <th>HourSpendOnApp</th>\n",
       "      <th>...</th>\n",
       "      <th>Gender_m</th>\n",
       "      <th>PreferedOrderCat_Fashion</th>\n",
       "      <th>PreferedOrderCat_Grocery</th>\n",
       "      <th>PreferedOrderCat_Laptop &amp; Accessory</th>\n",
       "      <th>PreferedOrderCat_Mobile</th>\n",
       "      <th>PreferedOrderCat_Mobile Phone</th>\n",
       "      <th>PreferedOrderCat_Others</th>\n",
       "      <th>MaritalStatus_Divorced</th>\n",
       "      <th>MaritalStatus_Married</th>\n",
       "      <th>MaritalStatus_Single</th>\n",
       "    </tr>\n",
       "  </thead>\n",
       "  <tbody>\n",
       "    <tr>\n",
       "      <th>0</th>\n",
       "      <td>0</td>\n",
       "      <td>50001</td>\n",
       "      <td>1</td>\n",
       "      <td>1.609438</td>\n",
       "      <td>Mobile Phone</td>\n",
       "      <td>3</td>\n",
       "      <td>6.0</td>\n",
       "      <td>Debit Card</td>\n",
       "      <td>Female</td>\n",
       "      <td>3.0</td>\n",
       "      <td>...</td>\n",
       "      <td>0.0</td>\n",
       "      <td>0.0</td>\n",
       "      <td>0.0</td>\n",
       "      <td>1.0</td>\n",
       "      <td>0.0</td>\n",
       "      <td>0.0</td>\n",
       "      <td>0.0</td>\n",
       "      <td>0.0</td>\n",
       "      <td>0.0</td>\n",
       "      <td>1.0</td>\n",
       "    </tr>\n",
       "    <tr>\n",
       "      <th>1</th>\n",
       "      <td>1</td>\n",
       "      <td>50002</td>\n",
       "      <td>1</td>\n",
       "      <td>1.609438</td>\n",
       "      <td>Phone</td>\n",
       "      <td>1</td>\n",
       "      <td>8.0</td>\n",
       "      <td>UPI</td>\n",
       "      <td>Male</td>\n",
       "      <td>3.0</td>\n",
       "      <td>...</td>\n",
       "      <td>0.0</td>\n",
       "      <td>0.0</td>\n",
       "      <td>0.0</td>\n",
       "      <td>0.0</td>\n",
       "      <td>1.0</td>\n",
       "      <td>0.0</td>\n",
       "      <td>0.0</td>\n",
       "      <td>0.0</td>\n",
       "      <td>0.0</td>\n",
       "      <td>1.0</td>\n",
       "    </tr>\n",
       "    <tr>\n",
       "      <th>2</th>\n",
       "      <td>2</td>\n",
       "      <td>50003</td>\n",
       "      <td>1</td>\n",
       "      <td>1.609438</td>\n",
       "      <td>Phone</td>\n",
       "      <td>1</td>\n",
       "      <td>30.0</td>\n",
       "      <td>Debit Card</td>\n",
       "      <td>Male</td>\n",
       "      <td>2.0</td>\n",
       "      <td>...</td>\n",
       "      <td>0.0</td>\n",
       "      <td>0.0</td>\n",
       "      <td>0.0</td>\n",
       "      <td>0.0</td>\n",
       "      <td>1.0</td>\n",
       "      <td>0.0</td>\n",
       "      <td>0.0</td>\n",
       "      <td>0.0</td>\n",
       "      <td>0.0</td>\n",
       "      <td>1.0</td>\n",
       "    </tr>\n",
       "    <tr>\n",
       "      <th>3</th>\n",
       "      <td>4</td>\n",
       "      <td>50005</td>\n",
       "      <td>1</td>\n",
       "      <td>0.000000</td>\n",
       "      <td>Phone</td>\n",
       "      <td>1</td>\n",
       "      <td>12.0</td>\n",
       "      <td>CC</td>\n",
       "      <td>Male</td>\n",
       "      <td>3.0</td>\n",
       "      <td>...</td>\n",
       "      <td>0.0</td>\n",
       "      <td>0.0</td>\n",
       "      <td>0.0</td>\n",
       "      <td>0.0</td>\n",
       "      <td>1.0</td>\n",
       "      <td>0.0</td>\n",
       "      <td>0.0</td>\n",
       "      <td>0.0</td>\n",
       "      <td>0.0</td>\n",
       "      <td>1.0</td>\n",
       "    </tr>\n",
       "    <tr>\n",
       "      <th>4</th>\n",
       "      <td>6</td>\n",
       "      <td>50007</td>\n",
       "      <td>1</td>\n",
       "      <td>0.000000</td>\n",
       "      <td>Phone</td>\n",
       "      <td>3</td>\n",
       "      <td>11.0</td>\n",
       "      <td>Cash on Delivery</td>\n",
       "      <td>Male</td>\n",
       "      <td>2.0</td>\n",
       "      <td>...</td>\n",
       "      <td>0.0</td>\n",
       "      <td>0.0</td>\n",
       "      <td>0.0</td>\n",
       "      <td>1.0</td>\n",
       "      <td>0.0</td>\n",
       "      <td>0.0</td>\n",
       "      <td>0.0</td>\n",
       "      <td>1.0</td>\n",
       "      <td>0.0</td>\n",
       "      <td>0.0</td>\n",
       "    </tr>\n",
       "    <tr>\n",
       "      <th>...</th>\n",
       "      <td>...</td>\n",
       "      <td>...</td>\n",
       "      <td>...</td>\n",
       "      <td>...</td>\n",
       "      <td>...</td>\n",
       "      <td>...</td>\n",
       "      <td>...</td>\n",
       "      <td>...</td>\n",
       "      <td>...</td>\n",
       "      <td>...</td>\n",
       "      <td>...</td>\n",
       "      <td>...</td>\n",
       "      <td>...</td>\n",
       "      <td>...</td>\n",
       "      <td>...</td>\n",
       "      <td>...</td>\n",
       "      <td>...</td>\n",
       "      <td>...</td>\n",
       "      <td>...</td>\n",
       "      <td>...</td>\n",
       "      <td>...</td>\n",
       "    </tr>\n",
       "    <tr>\n",
       "      <th>13945</th>\n",
       "      <td>16884</td>\n",
       "      <td>55625</td>\n",
       "      <td>0</td>\n",
       "      <td>0.693147</td>\n",
       "      <td>Mobile Phone</td>\n",
       "      <td>3</td>\n",
       "      <td>12.0</td>\n",
       "      <td>Credit Card</td>\n",
       "      <td>Female</td>\n",
       "      <td>2.0</td>\n",
       "      <td>...</td>\n",
       "      <td>0.0</td>\n",
       "      <td>0.0</td>\n",
       "      <td>0.0</td>\n",
       "      <td>0.0</td>\n",
       "      <td>0.0</td>\n",
       "      <td>1.0</td>\n",
       "      <td>0.0</td>\n",
       "      <td>0.0</td>\n",
       "      <td>0.0</td>\n",
       "      <td>1.0</td>\n",
       "    </tr>\n",
       "    <tr>\n",
       "      <th>13946</th>\n",
       "      <td>16885</td>\n",
       "      <td>55626</td>\n",
       "      <td>0</td>\n",
       "      <td>2.397895</td>\n",
       "      <td>Computer</td>\n",
       "      <td>1</td>\n",
       "      <td>30.0</td>\n",
       "      <td>Credit Card</td>\n",
       "      <td>Male</td>\n",
       "      <td>3.0</td>\n",
       "      <td>...</td>\n",
       "      <td>0.0</td>\n",
       "      <td>0.0</td>\n",
       "      <td>0.0</td>\n",
       "      <td>1.0</td>\n",
       "      <td>0.0</td>\n",
       "      <td>0.0</td>\n",
       "      <td>0.0</td>\n",
       "      <td>0.0</td>\n",
       "      <td>1.0</td>\n",
       "      <td>0.0</td>\n",
       "    </tr>\n",
       "    <tr>\n",
       "      <th>13947</th>\n",
       "      <td>16886</td>\n",
       "      <td>55627</td>\n",
       "      <td>0</td>\n",
       "      <td>2.639057</td>\n",
       "      <td>Mobile Phone</td>\n",
       "      <td>1</td>\n",
       "      <td>13.0</td>\n",
       "      <td>Credit Card</td>\n",
       "      <td>Male</td>\n",
       "      <td>3.0</td>\n",
       "      <td>...</td>\n",
       "      <td>0.0</td>\n",
       "      <td>1.0</td>\n",
       "      <td>0.0</td>\n",
       "      <td>0.0</td>\n",
       "      <td>0.0</td>\n",
       "      <td>0.0</td>\n",
       "      <td>0.0</td>\n",
       "      <td>0.0</td>\n",
       "      <td>1.0</td>\n",
       "      <td>0.0</td>\n",
       "    </tr>\n",
       "    <tr>\n",
       "      <th>13948</th>\n",
       "      <td>16887</td>\n",
       "      <td>55628</td>\n",
       "      <td>0</td>\n",
       "      <td>0.693147</td>\n",
       "      <td>Mobile Phone</td>\n",
       "      <td>1</td>\n",
       "      <td>11.0</td>\n",
       "      <td>Debit Card</td>\n",
       "      <td>Male</td>\n",
       "      <td>3.0</td>\n",
       "      <td>...</td>\n",
       "      <td>0.0</td>\n",
       "      <td>0.0</td>\n",
       "      <td>0.0</td>\n",
       "      <td>1.0</td>\n",
       "      <td>0.0</td>\n",
       "      <td>0.0</td>\n",
       "      <td>0.0</td>\n",
       "      <td>0.0</td>\n",
       "      <td>1.0</td>\n",
       "      <td>0.0</td>\n",
       "    </tr>\n",
       "    <tr>\n",
       "      <th>13949</th>\n",
       "      <td>16888</td>\n",
       "      <td>55629</td>\n",
       "      <td>0</td>\n",
       "      <td>3.178054</td>\n",
       "      <td>Computer</td>\n",
       "      <td>3</td>\n",
       "      <td>15.0</td>\n",
       "      <td>Credit Card</td>\n",
       "      <td>Male</td>\n",
       "      <td>4.0</td>\n",
       "      <td>...</td>\n",
       "      <td>0.0</td>\n",
       "      <td>0.0</td>\n",
       "      <td>0.0</td>\n",
       "      <td>1.0</td>\n",
       "      <td>0.0</td>\n",
       "      <td>0.0</td>\n",
       "      <td>0.0</td>\n",
       "      <td>0.0</td>\n",
       "      <td>1.0</td>\n",
       "      <td>0.0</td>\n",
       "    </tr>\n",
       "  </tbody>\n",
       "</table>\n",
       "<p>13950 rows × 45 columns</p>\n",
       "</div>"
      ],
      "text/plain": [
       "       Unnamed: 0  CustomerID  Churn    Tenure PreferredLoginDevice  CityTier  \\\n",
       "0               0       50001      1  1.609438         Mobile Phone         3   \n",
       "1               1       50002      1  1.609438                Phone         1   \n",
       "2               2       50003      1  1.609438                Phone         1   \n",
       "3               4       50005      1  0.000000                Phone         1   \n",
       "4               6       50007      1  0.000000                Phone         3   \n",
       "...           ...         ...    ...       ...                  ...       ...   \n",
       "13945       16884       55625      0  0.693147         Mobile Phone         3   \n",
       "13946       16885       55626      0  2.397895             Computer         1   \n",
       "13947       16886       55627      0  2.639057         Mobile Phone         1   \n",
       "13948       16887       55628      0  0.693147         Mobile Phone         1   \n",
       "13949       16888       55629      0  3.178054             Computer         3   \n",
       "\n",
       "       WarehouseToHome PreferredPaymentMode  Gender  HourSpendOnApp  ...  \\\n",
       "0                  6.0           Debit Card  Female             3.0  ...   \n",
       "1                  8.0                  UPI    Male             3.0  ...   \n",
       "2                 30.0           Debit Card    Male             2.0  ...   \n",
       "3                 12.0                   CC    Male             3.0  ...   \n",
       "4                 11.0     Cash on Delivery    Male             2.0  ...   \n",
       "...                ...                  ...     ...             ...  ...   \n",
       "13945             12.0          Credit Card  Female             2.0  ...   \n",
       "13946             30.0          Credit Card    Male             3.0  ...   \n",
       "13947             13.0          Credit Card    Male             3.0  ...   \n",
       "13948             11.0           Debit Card    Male             3.0  ...   \n",
       "13949             15.0          Credit Card    Male             4.0  ...   \n",
       "\n",
       "       Gender_m PreferedOrderCat_Fashion  PreferedOrderCat_Grocery  \\\n",
       "0           0.0                      0.0                       0.0   \n",
       "1           0.0                      0.0                       0.0   \n",
       "2           0.0                      0.0                       0.0   \n",
       "3           0.0                      0.0                       0.0   \n",
       "4           0.0                      0.0                       0.0   \n",
       "...         ...                      ...                       ...   \n",
       "13945       0.0                      0.0                       0.0   \n",
       "13946       0.0                      0.0                       0.0   \n",
       "13947       0.0                      1.0                       0.0   \n",
       "13948       0.0                      0.0                       0.0   \n",
       "13949       0.0                      0.0                       0.0   \n",
       "\n",
       "      PreferedOrderCat_Laptop & Accessory  PreferedOrderCat_Mobile  \\\n",
       "0                                     1.0                      0.0   \n",
       "1                                     0.0                      1.0   \n",
       "2                                     0.0                      1.0   \n",
       "3                                     0.0                      1.0   \n",
       "4                                     1.0                      0.0   \n",
       "...                                   ...                      ...   \n",
       "13945                                 0.0                      0.0   \n",
       "13946                                 1.0                      0.0   \n",
       "13947                                 0.0                      0.0   \n",
       "13948                                 1.0                      0.0   \n",
       "13949                                 1.0                      0.0   \n",
       "\n",
       "       PreferedOrderCat_Mobile Phone  PreferedOrderCat_Others  \\\n",
       "0                                0.0                      0.0   \n",
       "1                                0.0                      0.0   \n",
       "2                                0.0                      0.0   \n",
       "3                                0.0                      0.0   \n",
       "4                                0.0                      0.0   \n",
       "...                              ...                      ...   \n",
       "13945                            1.0                      0.0   \n",
       "13946                            0.0                      0.0   \n",
       "13947                            0.0                      0.0   \n",
       "13948                            0.0                      0.0   \n",
       "13949                            0.0                      0.0   \n",
       "\n",
       "       MaritalStatus_Divorced  MaritalStatus_Married  MaritalStatus_Single  \n",
       "0                         0.0                    0.0                   1.0  \n",
       "1                         0.0                    0.0                   1.0  \n",
       "2                         0.0                    0.0                   1.0  \n",
       "3                         0.0                    0.0                   1.0  \n",
       "4                         1.0                    0.0                   0.0  \n",
       "...                       ...                    ...                   ...  \n",
       "13945                     0.0                    0.0                   1.0  \n",
       "13946                     0.0                    1.0                   0.0  \n",
       "13947                     0.0                    1.0                   0.0  \n",
       "13948                     0.0                    1.0                   0.0  \n",
       "13949                     0.0                    1.0                   0.0  \n",
       "\n",
       "[13950 rows x 45 columns]"
      ]
     },
     "execution_count": 13,
     "metadata": {},
     "output_type": "execute_result"
    }
   ],
   "source": [
    "data"
   ]
  },
  {
   "cell_type": "code",
   "execution_count": 14,
   "id": "1cd1ee9d",
   "metadata": {},
   "outputs": [],
   "source": [
    "drop_col=['Unnamed: 0', 'CustomerID','PreferredLoginDevice','PreferredPaymentMode', 'Gender',\n",
    "             'PreferedOrderCat','MaritalStatus','PreferredLoginDevice_0','PreferredPaymentMode_CC',\n",
    "             'Gender_Male','PreferedOrderCat_Fashion','MaritalStatus_Married' ]\n",
    "data.drop(drop_col,axis=1,inplace=True)"
   ]
  },
  {
   "cell_type": "code",
   "execution_count": 15,
   "id": "0ae1045d",
   "metadata": {},
   "outputs": [
    {
     "data": {
      "text/html": [
       "<div>\n",
       "<style scoped>\n",
       "    .dataframe tbody tr th:only-of-type {\n",
       "        vertical-align: middle;\n",
       "    }\n",
       "\n",
       "    .dataframe tbody tr th {\n",
       "        vertical-align: top;\n",
       "    }\n",
       "\n",
       "    .dataframe thead th {\n",
       "        text-align: right;\n",
       "    }\n",
       "</style>\n",
       "<table border=\"1\" class=\"dataframe\">\n",
       "  <thead>\n",
       "    <tr style=\"text-align: right;\">\n",
       "      <th></th>\n",
       "      <th>Churn</th>\n",
       "      <th>Tenure</th>\n",
       "      <th>CityTier</th>\n",
       "      <th>WarehouseToHome</th>\n",
       "      <th>HourSpendOnApp</th>\n",
       "      <th>NumberOfDeviceRegistered</th>\n",
       "      <th>SatisfactionScore</th>\n",
       "      <th>NumberOfAddress</th>\n",
       "      <th>Complain</th>\n",
       "      <th>OrderAmountHikeFromlastYear</th>\n",
       "      <th>...</th>\n",
       "      <th>Gender_Female</th>\n",
       "      <th>Gender_f</th>\n",
       "      <th>Gender_m</th>\n",
       "      <th>PreferedOrderCat_Grocery</th>\n",
       "      <th>PreferedOrderCat_Laptop &amp; Accessory</th>\n",
       "      <th>PreferedOrderCat_Mobile</th>\n",
       "      <th>PreferedOrderCat_Mobile Phone</th>\n",
       "      <th>PreferedOrderCat_Others</th>\n",
       "      <th>MaritalStatus_Divorced</th>\n",
       "      <th>MaritalStatus_Single</th>\n",
       "    </tr>\n",
       "  </thead>\n",
       "  <tbody>\n",
       "    <tr>\n",
       "      <th>0</th>\n",
       "      <td>1</td>\n",
       "      <td>1.609438</td>\n",
       "      <td>3</td>\n",
       "      <td>6.0</td>\n",
       "      <td>3.0</td>\n",
       "      <td>3.0</td>\n",
       "      <td>2</td>\n",
       "      <td>9</td>\n",
       "      <td>1</td>\n",
       "      <td>11.0</td>\n",
       "      <td>...</td>\n",
       "      <td>1.0</td>\n",
       "      <td>0.0</td>\n",
       "      <td>0.0</td>\n",
       "      <td>0.0</td>\n",
       "      <td>1.0</td>\n",
       "      <td>0.0</td>\n",
       "      <td>0.0</td>\n",
       "      <td>0.0</td>\n",
       "      <td>0.0</td>\n",
       "      <td>1.0</td>\n",
       "    </tr>\n",
       "    <tr>\n",
       "      <th>1</th>\n",
       "      <td>1</td>\n",
       "      <td>1.609438</td>\n",
       "      <td>1</td>\n",
       "      <td>8.0</td>\n",
       "      <td>3.0</td>\n",
       "      <td>4.0</td>\n",
       "      <td>3</td>\n",
       "      <td>7</td>\n",
       "      <td>1</td>\n",
       "      <td>15.0</td>\n",
       "      <td>...</td>\n",
       "      <td>0.0</td>\n",
       "      <td>0.0</td>\n",
       "      <td>0.0</td>\n",
       "      <td>0.0</td>\n",
       "      <td>0.0</td>\n",
       "      <td>1.0</td>\n",
       "      <td>0.0</td>\n",
       "      <td>0.0</td>\n",
       "      <td>0.0</td>\n",
       "      <td>1.0</td>\n",
       "    </tr>\n",
       "    <tr>\n",
       "      <th>2</th>\n",
       "      <td>1</td>\n",
       "      <td>1.609438</td>\n",
       "      <td>1</td>\n",
       "      <td>30.0</td>\n",
       "      <td>2.0</td>\n",
       "      <td>4.0</td>\n",
       "      <td>3</td>\n",
       "      <td>6</td>\n",
       "      <td>1</td>\n",
       "      <td>14.0</td>\n",
       "      <td>...</td>\n",
       "      <td>0.0</td>\n",
       "      <td>0.0</td>\n",
       "      <td>0.0</td>\n",
       "      <td>0.0</td>\n",
       "      <td>0.0</td>\n",
       "      <td>1.0</td>\n",
       "      <td>0.0</td>\n",
       "      <td>0.0</td>\n",
       "      <td>0.0</td>\n",
       "      <td>1.0</td>\n",
       "    </tr>\n",
       "    <tr>\n",
       "      <th>3</th>\n",
       "      <td>1</td>\n",
       "      <td>0.000000</td>\n",
       "      <td>1</td>\n",
       "      <td>12.0</td>\n",
       "      <td>3.0</td>\n",
       "      <td>3.0</td>\n",
       "      <td>5</td>\n",
       "      <td>3</td>\n",
       "      <td>0</td>\n",
       "      <td>11.0</td>\n",
       "      <td>...</td>\n",
       "      <td>0.0</td>\n",
       "      <td>0.0</td>\n",
       "      <td>0.0</td>\n",
       "      <td>0.0</td>\n",
       "      <td>0.0</td>\n",
       "      <td>1.0</td>\n",
       "      <td>0.0</td>\n",
       "      <td>0.0</td>\n",
       "      <td>0.0</td>\n",
       "      <td>1.0</td>\n",
       "    </tr>\n",
       "    <tr>\n",
       "      <th>4</th>\n",
       "      <td>1</td>\n",
       "      <td>0.000000</td>\n",
       "      <td>3</td>\n",
       "      <td>11.0</td>\n",
       "      <td>2.0</td>\n",
       "      <td>3.0</td>\n",
       "      <td>2</td>\n",
       "      <td>4</td>\n",
       "      <td>0</td>\n",
       "      <td>14.0</td>\n",
       "      <td>...</td>\n",
       "      <td>0.0</td>\n",
       "      <td>0.0</td>\n",
       "      <td>0.0</td>\n",
       "      <td>0.0</td>\n",
       "      <td>1.0</td>\n",
       "      <td>0.0</td>\n",
       "      <td>0.0</td>\n",
       "      <td>0.0</td>\n",
       "      <td>1.0</td>\n",
       "      <td>0.0</td>\n",
       "    </tr>\n",
       "  </tbody>\n",
       "</table>\n",
       "<p>5 rows × 33 columns</p>\n",
       "</div>"
      ],
      "text/plain": [
       "   Churn    Tenure  CityTier  WarehouseToHome  HourSpendOnApp  \\\n",
       "0      1  1.609438         3              6.0             3.0   \n",
       "1      1  1.609438         1              8.0             3.0   \n",
       "2      1  1.609438         1             30.0             2.0   \n",
       "3      1  0.000000         1             12.0             3.0   \n",
       "4      1  0.000000         3             11.0             2.0   \n",
       "\n",
       "   NumberOfDeviceRegistered  SatisfactionScore  NumberOfAddress  Complain  \\\n",
       "0                       3.0                  2                9         1   \n",
       "1                       4.0                  3                7         1   \n",
       "2                       4.0                  3                6         1   \n",
       "3                       3.0                  5                3         0   \n",
       "4                       3.0                  2                4         0   \n",
       "\n",
       "   OrderAmountHikeFromlastYear  ...  Gender_Female  Gender_f  Gender_m  \\\n",
       "0                         11.0  ...            1.0       0.0       0.0   \n",
       "1                         15.0  ...            0.0       0.0       0.0   \n",
       "2                         14.0  ...            0.0       0.0       0.0   \n",
       "3                         11.0  ...            0.0       0.0       0.0   \n",
       "4                         14.0  ...            0.0       0.0       0.0   \n",
       "\n",
       "   PreferedOrderCat_Grocery  PreferedOrderCat_Laptop & Accessory  \\\n",
       "0                       0.0                                  1.0   \n",
       "1                       0.0                                  0.0   \n",
       "2                       0.0                                  0.0   \n",
       "3                       0.0                                  0.0   \n",
       "4                       0.0                                  1.0   \n",
       "\n",
       "   PreferedOrderCat_Mobile  PreferedOrderCat_Mobile Phone  \\\n",
       "0                      0.0                            0.0   \n",
       "1                      1.0                            0.0   \n",
       "2                      1.0                            0.0   \n",
       "3                      1.0                            0.0   \n",
       "4                      0.0                            0.0   \n",
       "\n",
       "   PreferedOrderCat_Others  MaritalStatus_Divorced  MaritalStatus_Single  \n",
       "0                      0.0                     0.0                   1.0  \n",
       "1                      0.0                     0.0                   1.0  \n",
       "2                      0.0                     0.0                   1.0  \n",
       "3                      0.0                     0.0                   1.0  \n",
       "4                      0.0                     1.0                   0.0  \n",
       "\n",
       "[5 rows x 33 columns]"
      ]
     },
     "execution_count": 15,
     "metadata": {},
     "output_type": "execute_result"
    }
   ],
   "source": [
    "data.head()"
   ]
  },
  {
   "cell_type": "markdown",
   "id": "93ce4134",
   "metadata": {},
   "source": [
    "### <span style=\"color: violet;\">Data Spliting</span>\n"
   ]
  },
  {
   "cell_type": "code",
   "execution_count": 94,
   "id": "45a395d2",
   "metadata": {},
   "outputs": [],
   "source": [
    "X = data.drop('Churn', axis = 1).values\n",
    "y = data[\"Churn\"].values\n",
    "y=y.reshape(-1,1)\n"
   ]
  },
  {
   "cell_type": "code",
   "execution_count": 17,
   "id": "ce1bb401",
   "metadata": {},
   "outputs": [],
   "source": [
    "from sklearn.model_selection import train_test_split\n",
    "X_train, X_test, y_train, y_test = train_test_split(X, y, test_size = 0.25, random_state = 42)"
   ]
  },
  {
   "cell_type": "code",
   "execution_count": 18,
   "id": "ca57031c",
   "metadata": {},
   "outputs": [
    {
     "name": "stdout",
     "output_type": "stream",
     "text": [
      "Shape of X_train:  (10462, 32)\n",
      "Shape of X_test:  (3488, 32)\n",
      "Shape of y_train:  (10462, 1)\n",
      "Shape of y_test (3488, 1)\n"
     ]
    }
   ],
   "source": [
    "print(\"Shape of X_train: \",X_train.shape)\n",
    "print(\"Shape of X_test: \", X_test.shape)\n",
    "print(\"Shape of y_train: \",y_train.shape)\n",
    "print(\"Shape of y_test\",y_test.shape)"
   ]
  },
  {
   "cell_type": "markdown",
   "id": "256ea176",
   "metadata": {},
   "source": [
    "# Decision Tree Classifier"
   ]
  },
  {
   "cell_type": "code",
   "execution_count": 19,
   "id": "4d6c0cb5",
   "metadata": {},
   "outputs": [],
   "source": [
    "from sklearn.tree import DecisionTreeClassifier\n",
    "from sklearn.metrics import accuracy_score\n",
    "\n",
    "gini = DecisionTreeClassifier(criterion='gini', max_depth=3, random_state=0)"
   ]
  },
  {
   "cell_type": "code",
   "execution_count": 20,
   "id": "da7f064e",
   "metadata": {},
   "outputs": [
    {
     "data": {
      "text/plain": [
       "DecisionTreeClassifier(max_depth=3, random_state=0)"
      ]
     },
     "execution_count": 20,
     "metadata": {},
     "output_type": "execute_result"
    }
   ],
   "source": [
    "gini.fit(X_train, y_train)"
   ]
  },
  {
   "cell_type": "code",
   "execution_count": 21,
   "id": "72d93acb",
   "metadata": {},
   "outputs": [],
   "source": [
    "y_pred_train = gini.predict(X_train)\n",
    "y_pred_test=gini.predict(X_test)"
   ]
  },
  {
   "cell_type": "code",
   "execution_count": 22,
   "id": "c26cba3d",
   "metadata": {},
   "outputs": [
    {
     "data": {
      "text/plain": [
       "0.874307015866947"
      ]
     },
     "execution_count": 22,
     "metadata": {},
     "output_type": "execute_result"
    }
   ],
   "source": [
    "gini.score(X_train, y_train)"
   ]
  },
  {
   "cell_type": "code",
   "execution_count": 23,
   "id": "942da5de",
   "metadata": {},
   "outputs": [
    {
     "data": {
      "text/plain": [
       "0.8833142201834863"
      ]
     },
     "execution_count": 23,
     "metadata": {},
     "output_type": "execute_result"
    }
   ],
   "source": [
    "gini.score(X_test, y_test)"
   ]
  },
  {
   "cell_type": "code",
   "execution_count": 24,
   "id": "3343d8eb",
   "metadata": {},
   "outputs": [
    {
     "name": "stdout",
     "output_type": "stream",
     "text": [
      "Training set score: 0.8743\n",
      "Test set score: 0.8833\n"
     ]
    }
   ],
   "source": [
    "print('Training set score: {:.4f}'.format(gini.score(X_train, y_train)))\n",
    "\n",
    "print('Test set score: {:.4f}'.format(gini.score(X_test, y_test)))"
   ]
  },
  {
   "cell_type": "code",
   "execution_count": 25,
   "id": "fbe27e4e",
   "metadata": {},
   "outputs": [
    {
     "data": {
      "text/plain": [
       "[Text(0.5, 0.875, 'X[0] <= 0.896\\ngini = 0.281\\nsamples = 10462\\nvalue = [8693, 1769]'),\n",
       " Text(0.25, 0.625, 'X[7] <= 0.5\\ngini = 0.5\\nsamples = 2519\\nvalue = [1297, 1222]'),\n",
       " Text(0.125, 0.375, 'X[6] <= 5.5\\ngini = 0.47\\nsamples = 1647\\nvalue = [1024, 623]'),\n",
       " Text(0.0625, 0.125, 'gini = 0.432\\nsamples = 1329\\nvalue = [909, 420]'),\n",
       " Text(0.1875, 0.125, 'gini = 0.462\\nsamples = 318\\nvalue = [115, 203]'),\n",
       " Text(0.375, 0.375, 'X[6] <= 3.5\\ngini = 0.43\\nsamples = 872\\nvalue = [273, 599]'),\n",
       " Text(0.3125, 0.125, 'gini = 0.487\\nsamples = 618\\nvalue = [260, 358]'),\n",
       " Text(0.4375, 0.125, 'gini = 0.097\\nsamples = 254\\nvalue = [13, 241]'),\n",
       " Text(0.75, 0.625, 'X[12] <= 4.814\\ngini = 0.128\\nsamples = 7943\\nvalue = [7396, 547]'),\n",
       " Text(0.625, 0.375, 'X[7] <= 0.5\\ngini = 0.468\\nsamples = 303\\nvalue = [190, 113]'),\n",
       " Text(0.5625, 0.125, 'gini = 0.349\\nsamples = 213\\nvalue = [165, 48]'),\n",
       " Text(0.6875, 0.125, 'gini = 0.401\\nsamples = 90\\nvalue = [25, 65]'),\n",
       " Text(0.875, 0.375, 'X[7] <= 0.5\\ngini = 0.107\\nsamples = 7640\\nvalue = [7206, 434]'),\n",
       " Text(0.8125, 0.125, 'gini = 0.057\\nsamples = 5621\\nvalue = [5457, 164]'),\n",
       " Text(0.9375, 0.125, 'gini = 0.232\\nsamples = 2019\\nvalue = [1749, 270]')]"
      ]
     },
     "execution_count": 25,
     "metadata": {},
     "output_type": "execute_result"
    },
    {
     "data": {
      "image/png": "[encoded data removed]",
      "text/plain": [
       "<Figure size 1200x800 with 1 Axes>"
      ]
     },
     "metadata": {},
     "output_type": "display_data"
    }
   ],
   "source": [
    "plt.figure(figsize=(12,8))\n",
    "\n",
    "from sklearn import tree\n",
    "\n",
    "tree.plot_tree(gini.fit(X_train, y_train)) "
   ]
  },
  {
   "cell_type": "code",
   "execution_count": 26,
   "id": "579e4ef8",
   "metadata": {},
   "outputs": [
    {
     "name": "stdout",
     "output_type": "stream",
     "text": [
      "Confusion matrix\n",
      "\n",
      " [[2778  118]\n",
      " [ 289  303]]\n"
     ]
    }
   ],
   "source": [
    "from sklearn.metrics import confusion_matrix\n",
    "\n",
    "cm = confusion_matrix(y_test, y_pred_test)\n",
    "\n",
    "print('Confusion matrix\\n\\n', cm)"
   ]
  },
  {
   "cell_type": "code",
   "execution_count": 27,
   "id": "6de8e99c",
   "metadata": {},
   "outputs": [
    {
     "name": "stdout",
     "output_type": "stream",
     "text": [
      "Confusion matrix\n",
      "\n",
      " [[8280  413]\n",
      " [ 902  867]]\n"
     ]
    }
   ],
   "source": [
    "from sklearn.metrics import confusion_matrix\n",
    "\n",
    "cm = confusion_matrix(y_train, y_pred_train)\n",
    "\n",
    "print('Confusion matrix\\n\\n', cm)"
   ]
  },
  {
   "cell_type": "code",
   "execution_count": 28,
   "id": "7174bf5a",
   "metadata": {},
   "outputs": [
    {
     "name": "stdout",
     "output_type": "stream",
     "text": [
      "              precision    recall  f1-score   support\n",
      "\n",
      "           0       0.91      0.96      0.93      2896\n",
      "           1       0.72      0.51      0.60       592\n",
      "\n",
      "    accuracy                           0.88      3488\n",
      "   macro avg       0.81      0.74      0.76      3488\n",
      "weighted avg       0.87      0.88      0.88      3488\n",
      "\n"
     ]
    }
   ],
   "source": [
    "from sklearn.metrics import classification_report\n",
    "\n",
    "print(classification_report(y_test, y_pred_test))"
   ]
  },
  {
   "cell_type": "markdown",
   "id": "41d0df02",
   "metadata": {},
   "source": [
    "# knn-classification\n"
   ]
  },
  {
   "cell_type": "code",
   "execution_count": 29,
   "id": "c8138981",
   "metadata": {},
   "outputs": [],
   "source": [
    "from sklearn.neighbors import KNeighborsClassifier\n",
    "from sklearn.metrics import confusion_matrix, classification_report  \n"
   ]
  },
  {
   "cell_type": "code",
   "execution_count": 30,
   "id": "d7ecf61c",
   "metadata": {},
   "outputs": [],
   "source": [
    "knn_clf = KNeighborsClassifier() "
   ]
  },
  {
   "cell_type": "code",
   "execution_count": 96,
   "id": "91e4637d",
   "metadata": {},
   "outputs": [
    {
     "name": "stderr",
     "output_type": "stream",
     "text": [
      "C:\\Users\\Vaidees\\anaconda3\\lib\\site-packages\\sklearn\\neighbors\\_classification.py:198: DataConversionWarning: A column-vector y was passed when a 1d array was expected. Please change the shape of y to (n_samples,), for example using ravel().\n",
      "  return self._fit(X, y)\n"
     ]
    },
    {
     "data": {
      "text/plain": [
       "KNeighborsClassifier()"
      ]
     },
     "execution_count": 96,
     "metadata": {},
     "output_type": "execute_result"
    }
   ],
   "source": [
    "knn_clf.fit(X_train, y_train)"
   ]
  },
  {
   "cell_type": "code",
   "execution_count": 32,
   "id": "240fb25b",
   "metadata": {},
   "outputs": [
    {
     "name": "stderr",
     "output_type": "stream",
     "text": [
      "C:\\Users\\Vaidees\\anaconda3\\lib\\site-packages\\sklearn\\neighbors\\_classification.py:228: FutureWarning: Unlike other reduction functions (e.g. `skew`, `kurtosis`), the default behavior of `mode` typically preserves the axis it acts along. In SciPy 1.11.0, this behavior will change: the default value of `keepdims` will become False, the `axis` over which the statistic is taken will be eliminated, and the value None will no longer be accepted. Set `keepdims` to True or False to avoid this warning.\n",
      "  mode, _ = stats.mode(_y[neigh_ind, k], axis=1)\n",
      "C:\\Users\\Vaidees\\anaconda3\\lib\\site-packages\\sklearn\\neighbors\\_classification.py:228: FutureWarning: Unlike other reduction functions (e.g. `skew`, `kurtosis`), the default behavior of `mode` typically preserves the axis it acts along. In SciPy 1.11.0, this behavior will change: the default value of `keepdims` will become False, the `axis` over which the statistic is taken will be eliminated, and the value None will no longer be accepted. Set `keepdims` to True or False to avoid this warning.\n",
      "  mode, _ = stats.mode(_y[neigh_ind, k], axis=1)\n"
     ]
    }
   ],
   "source": [
    "y_pred_train = knn_clf.predict(X_train)\n",
    "y_pred_test = knn_clf.predict(X_test)"
   ]
  },
  {
   "cell_type": "code",
   "execution_count": 33,
   "id": "e025b39d",
   "metadata": {},
   "outputs": [
    {
     "name": "stderr",
     "output_type": "stream",
     "text": [
      "C:\\Users\\Vaidees\\anaconda3\\lib\\site-packages\\sklearn\\neighbors\\_classification.py:228: FutureWarning: Unlike other reduction functions (e.g. `skew`, `kurtosis`), the default behavior of `mode` typically preserves the axis it acts along. In SciPy 1.11.0, this behavior will change: the default value of `keepdims` will become False, the `axis` over which the statistic is taken will be eliminated, and the value None will no longer be accepted. Set `keepdims` to True or False to avoid this warning.\n",
      "  mode, _ = stats.mode(_y[neigh_ind, k], axis=1)\n"
     ]
    },
    {
     "data": {
      "text/plain": [
       "0.992735614605238"
      ]
     },
     "execution_count": 33,
     "metadata": {},
     "output_type": "execute_result"
    }
   ],
   "source": [
    "knn_clf.score(X_train, y_train)"
   ]
  },
  {
   "cell_type": "code",
   "execution_count": 34,
   "id": "f76a5973",
   "metadata": {},
   "outputs": [
    {
     "name": "stderr",
     "output_type": "stream",
     "text": [
      "C:\\Users\\Vaidees\\anaconda3\\lib\\site-packages\\sklearn\\neighbors\\_classification.py:228: FutureWarning: Unlike other reduction functions (e.g. `skew`, `kurtosis`), the default behavior of `mode` typically preserves the axis it acts along. In SciPy 1.11.0, this behavior will change: the default value of `keepdims` will become False, the `axis` over which the statistic is taken will be eliminated, and the value None will no longer be accepted. Set `keepdims` to True or False to avoid this warning.\n",
      "  mode, _ = stats.mode(_y[neigh_ind, k], axis=1)\n"
     ]
    },
    {
     "data": {
      "text/plain": [
       "0.9787844036697247"
      ]
     },
     "execution_count": 34,
     "metadata": {},
     "output_type": "execute_result"
    }
   ],
   "source": [
    "knn_clf.score(X_test, y_test)"
   ]
  },
  {
   "cell_type": "code",
   "execution_count": 35,
   "id": "a662fbe9",
   "metadata": {},
   "outputs": [
    {
     "name": "stderr",
     "output_type": "stream",
     "text": [
      "C:\\Users\\Vaidees\\anaconda3\\lib\\site-packages\\sklearn\\neighbors\\_classification.py:228: FutureWarning: Unlike other reduction functions (e.g. `skew`, `kurtosis`), the default behavior of `mode` typically preserves the axis it acts along. In SciPy 1.11.0, this behavior will change: the default value of `keepdims` will become False, the `axis` over which the statistic is taken will be eliminated, and the value None will no longer be accepted. Set `keepdims` to True or False to avoid this warning.\n",
      "  mode, _ = stats.mode(_y[neigh_ind, k], axis=1)\n"
     ]
    },
    {
     "name": "stdout",
     "output_type": "stream",
     "text": [
      "Training set score: 0.9927\n",
      "Test set score: 0.9788\n"
     ]
    },
    {
     "name": "stderr",
     "output_type": "stream",
     "text": [
      "C:\\Users\\Vaidees\\anaconda3\\lib\\site-packages\\sklearn\\neighbors\\_classification.py:228: FutureWarning: Unlike other reduction functions (e.g. `skew`, `kurtosis`), the default behavior of `mode` typically preserves the axis it acts along. In SciPy 1.11.0, this behavior will change: the default value of `keepdims` will become False, the `axis` over which the statistic is taken will be eliminated, and the value None will no longer be accepted. Set `keepdims` to True or False to avoid this warning.\n",
      "  mode, _ = stats.mode(_y[neigh_ind, k], axis=1)\n"
     ]
    }
   ],
   "source": [
    "print('Training set score: {:.4f}'.format(knn_clf.score(X_train, y_train)))\n",
    "\n",
    "print('Test set score: {:.4f}'.format(knn_clf.score(X_test, y_test)))"
   ]
  },
  {
   "cell_type": "code",
   "execution_count": 36,
   "id": "79518d5d",
   "metadata": {},
   "outputs": [
    {
     "data": {
      "text/plain": [
       "array([[2867,   29],\n",
       "       [  45,  547]], dtype=int64)"
      ]
     },
     "execution_count": 36,
     "metadata": {},
     "output_type": "execute_result"
    }
   ],
   "source": [
    "confusion_matrix(y_test, y_pred_test)"
   ]
  },
  {
   "cell_type": "code",
   "execution_count": 37,
   "id": "1bc1c3ce",
   "metadata": {},
   "outputs": [
    {
     "data": {
      "text/plain": [
       "array([[8665,   28],\n",
       "       [  48, 1721]], dtype=int64)"
      ]
     },
     "execution_count": 37,
     "metadata": {},
     "output_type": "execute_result"
    }
   ],
   "source": [
    "confusion_matrix(y_train, y_pred_train)"
   ]
  },
  {
   "cell_type": "code",
   "execution_count": 38,
   "id": "3463a62a",
   "metadata": {},
   "outputs": [
    {
     "name": "stdout",
     "output_type": "stream",
     "text": [
      "              precision    recall  f1-score   support\n",
      "\n",
      "           0       0.99      1.00      1.00      8693\n",
      "           1       0.98      0.97      0.98      1769\n",
      "\n",
      "    accuracy                           0.99     10462\n",
      "   macro avg       0.99      0.98      0.99     10462\n",
      "weighted avg       0.99      0.99      0.99     10462\n",
      "\n"
     ]
    }
   ],
   "source": [
    "from sklearn.metrics import classification_report\n",
    "\n",
    "print(classification_report(y_train, y_pred_train))"
   ]
  },
  {
   "cell_type": "markdown",
   "id": "4caf19d0",
   "metadata": {},
   "source": [
    "# Logistic Regression"
   ]
  },
  {
   "cell_type": "code",
   "execution_count": 39,
   "id": "99e4b43b",
   "metadata": {},
   "outputs": [],
   "source": [
    "from sklearn.linear_model import LogisticRegression"
   ]
  },
  {
   "cell_type": "code",
   "execution_count": 40,
   "id": "992e944a",
   "metadata": {},
   "outputs": [],
   "source": [
    "lr_clf = LogisticRegression(solver='liblinear')"
   ]
  },
  {
   "cell_type": "code",
   "execution_count": 41,
   "id": "b4e79c88",
   "metadata": {},
   "outputs": [
    {
     "name": "stderr",
     "output_type": "stream",
     "text": [
      "C:\\Users\\Vaidees\\anaconda3\\lib\\site-packages\\sklearn\\utils\\validation.py:993: DataConversionWarning: A column-vector y was passed when a 1d array was expected. Please change the shape of y to (n_samples, ), for example using ravel().\n",
      "  y = column_or_1d(y, warn=True)\n"
     ]
    },
    {
     "data": {
      "text/plain": [
       "LogisticRegression(solver='liblinear')"
      ]
     },
     "execution_count": 41,
     "metadata": {},
     "output_type": "execute_result"
    }
   ],
   "source": [
    "lr_clf.fit(X_train, y_train)"
   ]
  },
  {
   "cell_type": "code",
   "execution_count": 42,
   "id": "d329ca8b",
   "metadata": {},
   "outputs": [],
   "source": [
    "y_pred_train = lr_clf.predict(X_train)\n",
    "y_pred_test = lr_clf.predict(X_test)"
   ]
  },
  {
   "cell_type": "code",
   "execution_count": 43,
   "id": "e25418d1",
   "metadata": {},
   "outputs": [
    {
     "data": {
      "text/plain": [
       "0.8930414834639648"
      ]
     },
     "execution_count": 43,
     "metadata": {},
     "output_type": "execute_result"
    }
   ],
   "source": [
    "lr_clf.score(X_train, y_train)"
   ]
  },
  {
   "cell_type": "code",
   "execution_count": 44,
   "id": "c8f8e7aa",
   "metadata": {},
   "outputs": [
    {
     "data": {
      "text/plain": [
       "0.8881880733944955"
      ]
     },
     "execution_count": 44,
     "metadata": {},
     "output_type": "execute_result"
    }
   ],
   "source": [
    "lr_clf.score(X_test, y_test)"
   ]
  },
  {
   "cell_type": "code",
   "execution_count": 45,
   "id": "24128d90",
   "metadata": {},
   "outputs": [
    {
     "name": "stdout",
     "output_type": "stream",
     "text": [
      "Training set score: 0.8930\n",
      "Test set score: 0.8882\n"
     ]
    }
   ],
   "source": [
    "print('Training set score: {:.4f}'.format(lr_clf.score(X_train, y_train)))\n",
    "\n",
    "print('Test set score: {:.4f}'.format(lr_clf.score(X_test, y_test)))"
   ]
  },
  {
   "cell_type": "code",
   "execution_count": 46,
   "id": "7773587f",
   "metadata": {},
   "outputs": [
    {
     "data": {
      "text/plain": [
       "array([[2787,  109],\n",
       "       [ 281,  311]], dtype=int64)"
      ]
     },
     "execution_count": 46,
     "metadata": {},
     "output_type": "execute_result"
    }
   ],
   "source": [
    "confusion_matrix(y_test, y_pred_test)"
   ]
  },
  {
   "cell_type": "code",
   "execution_count": 47,
   "id": "61881670",
   "metadata": {},
   "outputs": [
    {
     "data": {
      "text/plain": [
       "array([[8361,  332],\n",
       "       [ 787,  982]], dtype=int64)"
      ]
     },
     "execution_count": 47,
     "metadata": {},
     "output_type": "execute_result"
    }
   ],
   "source": [
    "confusion_matrix(y_train, y_pred_train)"
   ]
  },
  {
   "cell_type": "code",
   "execution_count": 48,
   "id": "47f2ac2f",
   "metadata": {},
   "outputs": [
    {
     "name": "stdout",
     "output_type": "stream",
     "text": [
      "              precision    recall  f1-score   support\n",
      "\n",
      "           0       0.91      0.96      0.94      8693\n",
      "           1       0.75      0.56      0.64      1769\n",
      "\n",
      "    accuracy                           0.89     10462\n",
      "   macro avg       0.83      0.76      0.79     10462\n",
      "weighted avg       0.89      0.89      0.89     10462\n",
      "\n"
     ]
    }
   ],
   "source": [
    "from sklearn.metrics import classification_report\n",
    "\n",
    "print(classification_report(y_train, y_pred_train))"
   ]
  },
  {
   "cell_type": "markdown",
   "id": "86975bc6",
   "metadata": {},
   "source": [
    "# Gaussian Naive Bayes"
   ]
  },
  {
   "cell_type": "code",
   "execution_count": 49,
   "id": "1ace3c03",
   "metadata": {},
   "outputs": [],
   "source": [
    "from sklearn.naive_bayes import GaussianNB"
   ]
  },
  {
   "cell_type": "code",
   "execution_count": 50,
   "id": "e5b1dacb",
   "metadata": {},
   "outputs": [],
   "source": [
    "naive_bayes = GaussianNB()"
   ]
  },
  {
   "cell_type": "code",
   "execution_count": 51,
   "id": "1c30e5fd",
   "metadata": {},
   "outputs": [
    {
     "name": "stderr",
     "output_type": "stream",
     "text": [
      "C:\\Users\\Vaidees\\anaconda3\\lib\\site-packages\\sklearn\\utils\\validation.py:993: DataConversionWarning: A column-vector y was passed when a 1d array was expected. Please change the shape of y to (n_samples, ), for example using ravel().\n",
      "  y = column_or_1d(y, warn=True)\n"
     ]
    },
    {
     "data": {
      "text/plain": [
       "GaussianNB()"
      ]
     },
     "execution_count": 51,
     "metadata": {},
     "output_type": "execute_result"
    }
   ],
   "source": [
    "naive_bayes.fit(X_train, y_train)"
   ]
  },
  {
   "cell_type": "code",
   "execution_count": 52,
   "id": "5d4ec31c",
   "metadata": {},
   "outputs": [],
   "source": [
    "y_pred_train = naive_bayes.predict(X_train)\n",
    "y_pred_test = naive_bayes.predict(X_test)"
   ]
  },
  {
   "cell_type": "code",
   "execution_count": 53,
   "id": "dfd584a5",
   "metadata": {},
   "outputs": [
    {
     "data": {
      "text/plain": [
       "0.7445995029631046"
      ]
     },
     "execution_count": 53,
     "metadata": {},
     "output_type": "execute_result"
    }
   ],
   "source": [
    "naive_bayes.score(X_train, y_train)"
   ]
  },
  {
   "cell_type": "code",
   "execution_count": 54,
   "id": "2f0d8365",
   "metadata": {},
   "outputs": [
    {
     "data": {
      "text/plain": [
       "0.7279243119266054"
      ]
     },
     "execution_count": 54,
     "metadata": {},
     "output_type": "execute_result"
    }
   ],
   "source": [
    "naive_bayes.score(X_test, y_test)"
   ]
  },
  {
   "cell_type": "code",
   "execution_count": 55,
   "id": "e92791c8",
   "metadata": {},
   "outputs": [
    {
     "name": "stdout",
     "output_type": "stream",
     "text": [
      "Training set score: 0.7446\n",
      "Test set score: 0.7279\n"
     ]
    }
   ],
   "source": [
    "print('Training set score: {:.4f}'.format(naive_bayes.score(X_train, y_train)))\n",
    "\n",
    "print('Test set score: {:.4f}'.format(naive_bayes.score(X_test, y_test)))"
   ]
  },
  {
   "cell_type": "code",
   "execution_count": 56,
   "id": "4191101d",
   "metadata": {},
   "outputs": [
    {
     "data": {
      "text/plain": [
       "array([[2090,  806],\n",
       "       [ 143,  449]], dtype=int64)"
      ]
     },
     "execution_count": 56,
     "metadata": {},
     "output_type": "execute_result"
    }
   ],
   "source": [
    "confusion_matrix(y_test, y_pred_test)"
   ]
  },
  {
   "cell_type": "code",
   "execution_count": 57,
   "id": "65431ac3",
   "metadata": {},
   "outputs": [
    {
     "data": {
      "text/plain": [
       "array([[6442, 2251],\n",
       "       [ 421, 1348]], dtype=int64)"
      ]
     },
     "execution_count": 57,
     "metadata": {},
     "output_type": "execute_result"
    }
   ],
   "source": [
    "confusion_matrix(y_train, y_pred_train)"
   ]
  },
  {
   "cell_type": "code",
   "execution_count": 58,
   "id": "b4150678",
   "metadata": {},
   "outputs": [
    {
     "name": "stdout",
     "output_type": "stream",
     "text": [
      "              precision    recall  f1-score   support\n",
      "\n",
      "           0       0.94      0.74      0.83      8693\n",
      "           1       0.37      0.76      0.50      1769\n",
      "\n",
      "    accuracy                           0.74     10462\n",
      "   macro avg       0.66      0.75      0.67     10462\n",
      "weighted avg       0.84      0.74      0.77     10462\n",
      "\n"
     ]
    }
   ],
   "source": [
    "print(classification_report(y_train, y_pred_train))"
   ]
  },
  {
   "cell_type": "markdown",
   "id": "61d266e1",
   "metadata": {},
   "source": [
    "# Random Forest Classifier"
   ]
  },
  {
   "cell_type": "code",
   "execution_count": 59,
   "id": "f026d620",
   "metadata": {},
   "outputs": [],
   "source": [
    "from sklearn.ensemble import RandomForestClassifier"
   ]
  },
  {
   "cell_type": "code",
   "execution_count": 60,
   "id": "e527562c",
   "metadata": {},
   "outputs": [],
   "source": [
    "random_forest = RandomForestClassifier(random_state=0)"
   ]
  },
  {
   "cell_type": "code",
   "execution_count": 61,
   "id": "559f4244",
   "metadata": {},
   "outputs": [
    {
     "name": "stderr",
     "output_type": "stream",
     "text": [
      "C:\\Users\\Vaidees\\AppData\\Local\\Temp\\ipykernel_13532\\2566748861.py:1: DataConversionWarning: A column-vector y was passed when a 1d array was expected. Please change the shape of y to (n_samples,), for example using ravel().\n",
      "  random_forest.fit(X_train, y_train)\n"
     ]
    },
    {
     "data": {
      "text/plain": [
       "RandomForestClassifier(random_state=0)"
      ]
     },
     "execution_count": 61,
     "metadata": {},
     "output_type": "execute_result"
    }
   ],
   "source": [
    "random_forest.fit(X_train, y_train)"
   ]
  },
  {
   "cell_type": "code",
   "execution_count": 62,
   "id": "6c9bb361",
   "metadata": {},
   "outputs": [],
   "source": [
    "y_pred_train = random_forest.predict(X_train)\n",
    "y_pred_test = random_forest.predict(X_test)"
   ]
  },
  {
   "cell_type": "code",
   "execution_count": 63,
   "id": "afd66532",
   "metadata": {},
   "outputs": [
    {
     "data": {
      "text/plain": [
       "1.0"
      ]
     },
     "execution_count": 63,
     "metadata": {},
     "output_type": "execute_result"
    }
   ],
   "source": [
    "random_forest.score(X_train, y_train)"
   ]
  },
  {
   "cell_type": "code",
   "execution_count": 64,
   "id": "3c560856",
   "metadata": {},
   "outputs": [
    {
     "data": {
      "text/plain": [
       "0.9991399082568807"
      ]
     },
     "execution_count": 64,
     "metadata": {},
     "output_type": "execute_result"
    }
   ],
   "source": [
    "random_forest.score(X_test, y_test)"
   ]
  },
  {
   "cell_type": "code",
   "execution_count": 65,
   "id": "a4e7e010",
   "metadata": {},
   "outputs": [
    {
     "name": "stdout",
     "output_type": "stream",
     "text": [
      "Training set score: 1.0000\n",
      "Test set score: 0.9991\n"
     ]
    }
   ],
   "source": [
    "print('Training set score: {:.4f}'.format(random_forest.score(X_train, y_train)))\n",
    "\n",
    "print('Test set score: {:.4f}'.format(random_forest.score(X_test, y_test)))"
   ]
  },
  {
   "cell_type": "code",
   "execution_count": 66,
   "id": "24de2aa7",
   "metadata": {},
   "outputs": [
    {
     "data": {
      "text/plain": [
       "array([[8693,    0],\n",
       "       [   0, 1769]], dtype=int64)"
      ]
     },
     "execution_count": 66,
     "metadata": {},
     "output_type": "execute_result"
    }
   ],
   "source": [
    "confusion_matrix(y_train, y_pred_train)"
   ]
  },
  {
   "cell_type": "code",
   "execution_count": 67,
   "id": "61c22e52",
   "metadata": {},
   "outputs": [
    {
     "data": {
      "text/plain": [
       "array([[2896,    0],\n",
       "       [   3,  589]], dtype=int64)"
      ]
     },
     "execution_count": 67,
     "metadata": {},
     "output_type": "execute_result"
    }
   ],
   "source": [
    "confusion_matrix(y_test, y_pred_test)"
   ]
  },
  {
   "cell_type": "code",
   "execution_count": 68,
   "id": "aa7de801",
   "metadata": {},
   "outputs": [
    {
     "name": "stdout",
     "output_type": "stream",
     "text": [
      "              precision    recall  f1-score   support\n",
      "\n",
      "           0       1.00      1.00      1.00      8693\n",
      "           1       1.00      1.00      1.00      1769\n",
      "\n",
      "    accuracy                           1.00     10462\n",
      "   macro avg       1.00      1.00      1.00     10462\n",
      "weighted avg       1.00      1.00      1.00     10462\n",
      "\n"
     ]
    }
   ],
   "source": [
    "print(classification_report(y_train, y_pred_train))"
   ]
  },
  {
   "cell_type": "markdown",
   "id": "0e6eae1c",
   "metadata": {},
   "source": [
    "# Support Vector Machine (SVM)"
   ]
  },
  {
   "cell_type": "code",
   "execution_count": 69,
   "id": "9effc5fc",
   "metadata": {},
   "outputs": [],
   "source": [
    "from sklearn.svm import SVC"
   ]
  },
  {
   "cell_type": "code",
   "execution_count": 70,
   "id": "6d333aa6",
   "metadata": {},
   "outputs": [],
   "source": [
    "support_vector = SVC()"
   ]
  },
  {
   "cell_type": "code",
   "execution_count": 71,
   "id": "8b12c632",
   "metadata": {},
   "outputs": [
    {
     "name": "stderr",
     "output_type": "stream",
     "text": [
      "C:\\Users\\Vaidees\\anaconda3\\lib\\site-packages\\sklearn\\utils\\validation.py:993: DataConversionWarning: A column-vector y was passed when a 1d array was expected. Please change the shape of y to (n_samples, ), for example using ravel().\n",
      "  y = column_or_1d(y, warn=True)\n"
     ]
    },
    {
     "data": {
      "text/plain": [
       "SVC()"
      ]
     },
     "execution_count": 71,
     "metadata": {},
     "output_type": "execute_result"
    }
   ],
   "source": [
    "support_vector.fit(X_train, y_train)"
   ]
  },
  {
   "cell_type": "code",
   "execution_count": 72,
   "id": "f1009de9",
   "metadata": {},
   "outputs": [],
   "source": [
    "y_pred_train_svm = support_vector.predict(X_train)\n",
    "y_pred_test_svm = support_vector.predict(X_test)"
   ]
  },
  {
   "cell_type": "code",
   "execution_count": 73,
   "id": "e5fab452",
   "metadata": {},
   "outputs": [
    {
     "data": {
      "text/plain": [
       "0.8921812272987957"
      ]
     },
     "execution_count": 73,
     "metadata": {},
     "output_type": "execute_result"
    }
   ],
   "source": [
    "support_vector.score(X_train, y_train)"
   ]
  },
  {
   "cell_type": "code",
   "execution_count": 74,
   "id": "4a55fb55",
   "metadata": {},
   "outputs": [
    {
     "data": {
      "text/plain": [
       "0.8847477064220184"
      ]
     },
     "execution_count": 74,
     "metadata": {},
     "output_type": "execute_result"
    }
   ],
   "source": [
    "support_vector.score(X_test, y_test)"
   ]
  },
  {
   "cell_type": "code",
   "execution_count": 75,
   "id": "6538e0b9",
   "metadata": {},
   "outputs": [
    {
     "name": "stdout",
     "output_type": "stream",
     "text": [
      "Training set score: 0.8922\n",
      "Test set score: 0.8847\n"
     ]
    }
   ],
   "source": [
    "print('Training set score: {:.4f}'.format(support_vector.score(X_train, y_train)))\n",
    "\n",
    "print('Test set score: {:.4f}'.format(support_vector.score(X_test, y_test)))"
   ]
  },
  {
   "cell_type": "code",
   "execution_count": 76,
   "id": "69797777",
   "metadata": {},
   "outputs": [
    {
     "data": {
      "text/plain": [
       "array([[8557,  136],\n",
       "       [ 992,  777]], dtype=int64)"
      ]
     },
     "execution_count": 76,
     "metadata": {},
     "output_type": "execute_result"
    }
   ],
   "source": [
    "confusion_matrix(y_train, y_pred_train_svm)"
   ]
  },
  {
   "cell_type": "code",
   "execution_count": 77,
   "id": "448cc745",
   "metadata": {},
   "outputs": [
    {
     "data": {
      "text/plain": [
       "array([[2843,   53],\n",
       "       [ 349,  243]], dtype=int64)"
      ]
     },
     "execution_count": 77,
     "metadata": {},
     "output_type": "execute_result"
    }
   ],
   "source": [
    "confusion_matrix(y_test, y_pred_test_svm)"
   ]
  },
  {
   "cell_type": "code",
   "execution_count": 78,
   "id": "60363d19",
   "metadata": {},
   "outputs": [
    {
     "name": "stdout",
     "output_type": "stream",
     "text": [
      "              precision    recall  f1-score   support\n",
      "\n",
      "           0       0.90      0.98      0.94      8693\n",
      "           1       0.85      0.44      0.58      1769\n",
      "\n",
      "    accuracy                           0.89     10462\n",
      "   macro avg       0.87      0.71      0.76     10462\n",
      "weighted avg       0.89      0.89      0.88     10462\n",
      "\n"
     ]
    }
   ],
   "source": [
    "print(classification_report(y_train, y_pred_train_svm))"
   ]
  },
  {
   "cell_type": "markdown",
   "id": "984c82d9",
   "metadata": {},
   "source": [
    "# Gradient Boosting"
   ]
  },
  {
   "cell_type": "code",
   "execution_count": 79,
   "id": "23dc4ec3",
   "metadata": {},
   "outputs": [],
   "source": [
    "from sklearn.ensemble import GradientBoostingClassifier"
   ]
  },
  {
   "cell_type": "code",
   "execution_count": 80,
   "id": "ddf6d27e",
   "metadata": {},
   "outputs": [],
   "source": [
    "gbm = GradientBoostingClassifier(n_estimators=100, learning_rate=0.3, max_depth=3, random_state=42)\n"
   ]
  },
  {
   "cell_type": "code",
   "execution_count": 81,
   "id": "e5251288",
   "metadata": {},
   "outputs": [
    {
     "name": "stderr",
     "output_type": "stream",
     "text": [
      "C:\\Users\\Vaidees\\anaconda3\\lib\\site-packages\\sklearn\\ensemble\\_gb.py:494: DataConversionWarning: A column-vector y was passed when a 1d array was expected. Please change the shape of y to (n_samples, ), for example using ravel().\n",
      "  y = column_or_1d(y, warn=True)\n"
     ]
    },
    {
     "data": {
      "text/plain": [
       "GradientBoostingClassifier(learning_rate=0.3, random_state=42)"
      ]
     },
     "execution_count": 81,
     "metadata": {},
     "output_type": "execute_result"
    }
   ],
   "source": [
    "gbm.fit(X_train, y_train)"
   ]
  },
  {
   "cell_type": "code",
   "execution_count": 82,
   "id": "621081c7",
   "metadata": {},
   "outputs": [],
   "source": [
    "y_pred_train_gbm = gbm.predict(X_train)\n",
    "y_pred_test_gbm = gbm.predict(X_test)"
   ]
  },
  {
   "cell_type": "code",
   "execution_count": 83,
   "id": "f30b88f8",
   "metadata": {},
   "outputs": [
    {
     "data": {
      "text/plain": [
       "0.9700822022557828"
      ]
     },
     "execution_count": 83,
     "metadata": {},
     "output_type": "execute_result"
    }
   ],
   "source": [
    "gbm.score(X_train, y_train)"
   ]
  },
  {
   "cell_type": "code",
   "execution_count": 84,
   "id": "774822e3",
   "metadata": {},
   "outputs": [
    {
     "data": {
      "text/plain": [
       "0.9572821100917431"
      ]
     },
     "execution_count": 84,
     "metadata": {},
     "output_type": "execute_result"
    }
   ],
   "source": [
    "gbm.score(X_test, y_test)"
   ]
  },
  {
   "cell_type": "code",
   "execution_count": 85,
   "id": "b40931d8",
   "metadata": {},
   "outputs": [
    {
     "name": "stdout",
     "output_type": "stream",
     "text": [
      "Training set score: 0.9701\n",
      "Test set score: 0.9573\n"
     ]
    }
   ],
   "source": [
    "print('Training set score: {:.4f}'.format(gbm.score(X_train, y_train)))\n",
    "\n",
    "print('Test set score: {:.4f}'.format(gbm.score(X_test, y_test)))"
   ]
  },
  {
   "cell_type": "markdown",
   "id": "a185f66f",
   "metadata": {},
   "source": [
    "# AdaBoost"
   ]
  },
  {
   "cell_type": "code",
   "execution_count": 86,
   "id": "c4af1dbb",
   "metadata": {},
   "outputs": [],
   "source": [
    "from sklearn.ensemble import AdaBoostClassifier\n",
    "from sklearn.tree import DecisionTreeClassifier"
   ]
  },
  {
   "cell_type": "code",
   "execution_count": 87,
   "id": "ab8171b9",
   "metadata": {},
   "outputs": [],
   "source": [
    "base_estimator = DecisionTreeClassifier(max_depth=1)\n",
    "n_estimators = 1000  \n",
    "learning_rate = 0.3  \n",
    "algorithm = 'SAMME'  \n",
    "random_state = 42"
   ]
  },
  {
   "cell_type": "code",
   "execution_count": 88,
   "id": "dd3dfbe8",
   "metadata": {},
   "outputs": [],
   "source": [
    "ada = AdaBoostClassifier(base_estimator=base_estimator, n_estimators=n_estimators, learning_rate=learning_rate, algorithm=algorithm, random_state=random_state)\n"
   ]
  },
  {
   "cell_type": "code",
   "execution_count": 89,
   "id": "acaffc0f",
   "metadata": {},
   "outputs": [
    {
     "data": {
      "text/plain": [
       "AdaBoostClassifier(algorithm='SAMME',\n",
       "                   base_estimator=DecisionTreeClassifier(max_depth=1),\n",
       "                   learning_rate=0.3, n_estimators=1000, random_state=42)"
      ]
     },
     "execution_count": 89,
     "metadata": {},
     "output_type": "execute_result"
    }
   ],
   "source": [
    "ada.fit(X_train, y_train.ravel())"
   ]
  },
  {
   "cell_type": "code",
   "execution_count": 90,
   "id": "bdac4a8e",
   "metadata": {},
   "outputs": [],
   "source": [
    "y_pred_train_ = ada.predict(X_train)\n",
    "y_pred_test_gbm = ada.predict(X_test)"
   ]
  },
  {
   "cell_type": "code",
   "execution_count": 91,
   "id": "9f61b14e",
   "metadata": {},
   "outputs": [
    {
     "data": {
      "text/plain": [
       "0.8922018348623854"
      ]
     },
     "execution_count": 91,
     "metadata": {},
     "output_type": "execute_result"
    }
   ],
   "source": [
    "ada.score(X_test, y_test)"
   ]
  },
  {
   "cell_type": "code",
   "execution_count": 92,
   "id": "0d968e8e",
   "metadata": {},
   "outputs": [
    {
     "data": {
      "text/plain": [
       "0.8922018348623854"
      ]
     },
     "execution_count": 92,
     "metadata": {},
     "output_type": "execute_result"
    }
   ],
   "source": [
    "ada.score(X_test, y_test)"
   ]
  },
  {
   "cell_type": "code",
   "execution_count": 93,
   "id": "7ca852f6",
   "metadata": {},
   "outputs": [
    {
     "name": "stdout",
     "output_type": "stream",
     "text": [
      "Training set score: 0.8922\n",
      "Test set score: 0.8922\n"
     ]
    }
   ],
   "source": [
    "print('Training set score: {:.4f}'.format(ada.score(X_test, y_test)))\n",
    "\n",
    "print('Test set score: {:.4f}'.format(ada.score(X_test, y_test)))"
   ]
  },
  {
   "cell_type": "markdown",
   "id": "895850ed",
   "metadata": {},
   "source": [
    "### Results and conclusions"
   ]
  },
  {
   "cell_type": "markdown",
   "id": "551a103d",
   "metadata": {},
   "source": [
    "1.The Random Forest Regression model has a high level of accuracy,\n",
    "        training set score of 1.0000 \n",
    "        test set score of 0.9991.\n",
    "\n",
    "2.The percentage of churn rate is higher among customers who have lodged a complaint compared to those who have not.\n",
    "\n",
    "3.Single individuals have a higher churn rate compared to other marital status categories."
   ]
  },
  {
   "cell_type": "code",
   "execution_count": null,
   "id": "a7579aa7",
   "metadata": {},
   "outputs": [],
   "source": []
  }
 ],
 "metadata": {
  "kernelspec": {
   "display_name": "Python 3 (ipykernel)",
   "language": "python",
   "name": "python3"
  },
  "language_info": {
   "codemirror_mode": {
    "name": "ipython",
    "version": 3
   },
   "file_extension": ".py",
   "mimetype": "text/x-python",
   "name": "python",
   "nbconvert_exporter": "python",
   "pygments_lexer": "ipython3",
   "version": "3.9.13"
  }
 },
 "nbformat": 4,
 "nbformat_minor": 5
}
